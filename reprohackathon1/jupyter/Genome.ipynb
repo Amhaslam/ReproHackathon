{
 "cells": [
  {
   "cell_type": "markdown",
   "metadata": {},
   "source": [
    "# Genome et index STAR\n",
    "\n",
    "Ce notebook télécharge les chromosomes 1 à 22, M, X, et Y, et crée un index avec STAR dans le dossier `gendir`."
   ]
  },
  {
   "cell_type": "code",
   "execution_count": 4,
   "metadata": {
    "collapsed": true
   },
   "outputs": [],
   "source": [
    "import os\n",
    "from urllib.request import urlretrieve\n",
    "EXE ={\n",
    "    \"fastq-dump\": \"sratoolkit.2.8.2-1-ubuntu64/bin/fastq-dump\",\n",
    "    \"STAR\": \"bin/STAR\"\n",
    "}"
   ]
  },
  {
   "cell_type": "markdown",
   "metadata": {},
   "source": [
    "### Download chromosomes"
   ]
  },
  {
   "cell_type": "code",
   "execution_count": 9,
   "metadata": {},
   "outputs": [
    {
     "data": {
      "text/plain": [
       "['chr1',\n",
       " 'chr2',\n",
       " 'chr3',\n",
       " 'chr4',\n",
       " 'chr5',\n",
       " 'chr6',\n",
       " 'chr7',\n",
       " 'chr8',\n",
       " 'chr9',\n",
       " 'chr10',\n",
       " 'chr11',\n",
       " 'chr12',\n",
       " 'chr13',\n",
       " 'chr14',\n",
       " 'chr15',\n",
       " 'chr16',\n",
       " 'chr17',\n",
       " 'chr18',\n",
       " 'chr19',\n",
       " 'chr20',\n",
       " 'chr21',\n",
       " 'chr22',\n",
       " 'chrM',\n",
       " 'chrX',\n",
       " 'chrY']"
      ]
     },
     "execution_count": 9,
     "metadata": {},
     "output_type": "execute_result"
    }
   ],
   "source": [
    "chrs = [\"chr%d\" % i for i in range(1,23)] + [\"chr%s\" % n for n in [\"M\",\"X\",\"Y\"]]\n",
    "chrs = [\"chr20\"]"
   ]
  },
  {
   "cell_type": "code",
   "execution_count": 10,
   "metadata": {},
   "outputs": [
    {
     "name": "stdout",
     "output_type": "stream",
     "text": [
      "chr1 ready\n",
      "chr2 ready\n",
      "chr3 ready\n",
      "chr4 ready\n",
      "chr5 ready\n",
      "chr6 ready\n",
      "chr7 ready\n",
      "chr8 ready\n",
      "chr9 ready\n",
      "chr10 ready\n",
      "chr11 ready\n",
      "chr12 ready\n",
      "chr13 ready\n",
      "chr14 ready\n",
      "chr15 ready\n",
      "chr16 ready\n",
      "chr17 ready\n",
      "chr18 ready\n",
      "chr19 ready\n",
      "chr20 ready\n",
      "chr21 ready\n",
      "chr22 ready\n",
      "chrM ready\n",
      "chrX ready\n",
      "chrY ready\n"
     ]
    }
   ],
   "source": [
    "if not os.path.exists(\"chrs\"):\n",
    "    os.makedirs(\"chrs\")\n",
    "for c in chrs:\n",
    "    chrfile = \"chrs/%s.fa.gz\" % c\n",
    "    if not os.path.exists(chrfile):\n",
    "        urlretrieve(\"http://hgdownload.soe.ucsc.edu/goldenPath/hg19/chromosomes/%s.fa.gz\" % c, chrfile)\n",
    "    print(\"%s ready\" % c)"
   ]
  },
  {
   "cell_type": "markdown",
   "metadata": {},
   "source": [
    "### Create STAR index"
   ]
  },
  {
   "cell_type": "code",
   "execution_count": null,
   "metadata": {},
   "outputs": [],
   "source": [
    "gendir = \"ref\"\n",
    "if not os.path.exists(gendir):\n",
    "    os.makedirs(gendir)\n",
    "#!gunzip -c chrs/*.fa.gz>ref.fa\n",
    "%time os.system(\"%s --runThreadN 10 --runMode genomeGenerate --genomeDir %s --genomeFastaFiles ref.fa\" % (EXE[\"STAR\"],gendir))\n",
    "#os.unlink(\"ref.fa\")\n",
    "print(\"Genome index ready in '%s'\" % gendir)"
   ]
  },
  {
   "cell_type": "code",
   "execution_count": null,
   "metadata": {
    "collapsed": true
   },
   "outputs": [],
   "source": []
  }
 ],
 "metadata": {
  "kernelspec": {
   "display_name": "Python 3",
   "language": "python",
   "name": "python3"
  },
  "language_info": {
   "codemirror_mode": {
    "name": "ipython",
    "version": 3
   },
   "file_extension": ".py",
   "mimetype": "text/x-python",
   "name": "python",
   "nbconvert_exporter": "python",
   "pygments_lexer": "ipython3",
   "version": "3.5.2"
  }
 },
 "nbformat": 4,
 "nbformat_minor": 2
}
