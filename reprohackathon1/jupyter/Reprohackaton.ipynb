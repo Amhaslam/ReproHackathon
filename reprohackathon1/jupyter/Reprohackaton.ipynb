{
 "cells": [
  {
   "cell_type": "markdown",
   "metadata": {},
   "source": [
    "# Analyse de données RNA-Seq issues de patients atteints de mélanome uvéal\n",
    "\n",
    "### Introduction\n",
    "Dans ce hackathon, nous tenterons de reproduire les résultats de [1].\n",
    "Les données originales proviennent de [2], où les auteurs ont séquencé l’ARN d’échantillons de patients atteints de mélanome uvéal. Ces patients appartiennent à deux groupes:\n",
    "\n",
    "1. patients mutés pour le gène SF3B1 (facteur d’épissage) et\n",
    "2. patients non mutés pour ce gène. \n",
    "\n",
    "Dans [2], les auteurs n’ont pas trouvé de différences d’épissage entre les patients mutés et les non mutés (bien qu’il s’agisse d’un facteur d’épissage).\n",
    "En revanche, les auteurs de [1] ont réanalysé les mêmes données, et ont trouvé les gènes suivants épissés différemment entre les deux conditions: \n",
    "* ABCC5, \n",
    "* CRNDE,\n",
    "* UQCC,\n",
    "* GUSBP11,\n",
    "* ANKHD1,\n",
    "* ADAM12.\n",
    "\n",
    "### Données\n",
    "\n",
    "Les données sont accessibles sur SRA\n",
    "* Patients mutés \n",
    "  * [SRR628582](https://www.ncbi.nlm.nih.gov/sra/?term=SRR628582)\n",
    "  * [SRR628583](https://www.ncbi.nlm.nih.gov/sra/?term=SRR628583)\n",
    "  * [SRR628584](https://www.ncbi.nlm.nih.gov/sra/?term=SRR628584)\n",
    "* Patients non mutés\n",
    "  * [SRR628585](https://www.ncbi.nlm.nih.gov/sra/?term=SRR628585)\n",
    "  * [SRR628586](https://www.ncbi.nlm.nih.gov/sra/?term=SRR628586)\n",
    "  * [SRR628587](https://www.ncbi.nlm.nih.gov/sra/?term=SRR628587)\n",
    "  * [SRR628588](https://www.ncbi.nlm.nih.gov/sra/?term=SRR628588)\n",
    "  * [SRR628589](https://www.ncbi.nlm.nih.gov/sra/?term=SRR628589)\n",
    "\n",
    "### Objectif\n",
    "\n",
    "Nous tenterons de retrouver les gènes différentiellement épissés entre les deux conditions, en utilisant un système de workflow et les outils suivants:\n",
    "* [STAR](https://github.com/alexdobin/STAR),\n",
    "* [DEXSeq](http://bioconductor.org/packages/release/bioc/html/DEXSeq.html),\n",
    "* [SRA toolkit](https://trace.ncbi.nlm.nih.gov/Traces/sra/sra.cgi?view=software)\n",
    "* [R](https://cran.r-project.org/)\n",
    "* [Samtools](http://www.htslib.org/download/)\n",
    "\n",
    "Le workflow peut se présenter comme cela:\n",
    "\n",
    "![RNA Workflow](hackathon_1_workflow.svg)\n",
    "\n",
    "## Références\n",
    "* [1] [Furney et al. (2013)](https://www.ncbi.nlm.nih.gov/pubmed/23861464)\n",
    "* [2] [Harbour et al. (2013)](https://www.ncbi.nlm.nih.gov/pubmed/23313955)"
   ]
  },
  {
   "cell_type": "markdown",
   "metadata": {},
   "source": [
    "### Configuration de l'environnement IPython"
   ]
  },
  {
   "cell_type": "code",
   "execution_count": 14,
   "metadata": {
    "collapsed": true
   },
   "outputs": [],
   "source": [
    "import os\n",
    "from urllib.request import urlretrieve"
   ]
  },
  {
   "cell_type": "code",
   "execution_count": 15,
   "metadata": {
    "collapsed": true
   },
   "outputs": [],
   "source": [
    "EXE ={\n",
    "    \"fastq-dump\": \"sratoolkit.2.8.2-1-ubuntu64/bin/fastq-dump\",\n",
    "    \"STAR\": \"bin/STAR\"\n",
    "}"
   ]
  },
  {
   "cell_type": "code",
   "execution_count": 20,
   "metadata": {},
   "outputs": [
    {
     "ename": "TypeError",
     "evalue": "'LoadBalancedView' object does not support item assignment",
     "output_type": "error",
     "traceback": [
      "\u001b[0;31m---------------------------------------------------------------------------\u001b[0m",
      "\u001b[0;31mTypeError\u001b[0m                                 Traceback (most recent call last)",
      "\u001b[0;32m<ipython-input-20-b1ffa24d40e2>\u001b[0m in \u001b[0;36m<module>\u001b[0;34m()\u001b[0m\n\u001b[1;32m      2\u001b[0m \u001b[0mrc\u001b[0m \u001b[0;34m=\u001b[0m \u001b[0mClient\u001b[0m\u001b[0;34m(\u001b[0m\u001b[0;34m)\u001b[0m\u001b[0;34m\u001b[0m\u001b[0m\n\u001b[1;32m      3\u001b[0m \u001b[0mpar\u001b[0m \u001b[0;34m=\u001b[0m \u001b[0mrc\u001b[0m\u001b[0;34m.\u001b[0m\u001b[0mload_balanced_view\u001b[0m\u001b[0;34m(\u001b[0m\u001b[0;34m)\u001b[0m\u001b[0;34m\u001b[0m\u001b[0m\n\u001b[0;32m----> 4\u001b[0;31m \u001b[0mpar\u001b[0m\u001b[0;34m[\u001b[0m\u001b[0;34m\"EXE\"\u001b[0m\u001b[0;34m]\u001b[0m \u001b[0;34m=\u001b[0m \u001b[0mEXE\u001b[0m\u001b[0;34m\u001b[0m\u001b[0m\n\u001b[0m",
      "\u001b[0;31mTypeError\u001b[0m: 'LoadBalancedView' object does not support item assignment"
     ]
    }
   ],
   "source": [
    "from ipyparallel import Client, require\n",
    "rc = Client()\n",
    "par = rc.load_balanced_view()\n",
    "par[\"EXE\"] = EXE"
   ]
  },
  {
   "cell_type": "markdown",
   "metadata": {},
   "source": [
    "# Genome\n",
    "\n",
    "Le téléchargement et le traitement du génome est traité dans [Genome.ipynb](Genome.ipynb)"
   ]
  },
  {
   "cell_type": "code",
   "execution_count": 12,
   "metadata": {},
   "outputs": [
    {
     "name": "stdout",
     "output_type": "stream",
     "text": [
      "chr1 ready\n",
      "chr2 ready\n",
      "chr3 ready\n",
      "chr4 ready\n",
      "chr5 ready\n",
      "chr6 ready\n",
      "chr7 ready\n",
      "chr8 ready\n",
      "chr9 ready\n",
      "chr10 ready\n",
      "chr11 ready\n",
      "chr12 ready\n",
      "chr13 ready\n",
      "chr14 ready\n",
      "chr15 ready\n",
      "chr16 ready\n",
      "chr17 ready\n",
      "chr18 ready\n",
      "chr19 ready\n",
      "chr20 ready\n",
      "chr21 ready\n",
      "chr22 ready\n",
      "chrM ready\n",
      "chrX ready\n",
      "chrY ready\n",
      "Genome index ready in 'ref'\n"
     ]
    }
   ],
   "source": [
    "%run \"Genome.ipynb\""
   ]
  },
  {
   "cell_type": "markdown",
   "metadata": {},
   "source": [
    "# Pré-traitement des données SRA\n",
    "\n",
    "Les données de RNA-seq sont téléchargées et converties au format fastq, avant d'être alignées sur le génome."
   ]
  },
  {
   "cell_type": "code",
   "execution_count": null,
   "metadata": {
    "collapsed": true
   },
   "outputs": [],
   "source": [
    "SRAIDS_MUTES = [\"SRR628582\", \"SRR628583\", \"SRR628584\"]\n",
    "SRAIDS_NONMUTES = [\"SRR628585\", \"SRR628586\", \"SRR628587\", \"SRR628588\", \"SRR628589\"]\n",
    "SRAIDS = SRAIDS_MUTES + SRAIDS_NONMUTES"
   ]
  },
  {
   "cell_type": "markdown",
   "metadata": {},
   "source": [
    "### Fetch files and convert to FASTQ"
   ]
  },
  {
   "cell_type": "code",
   "execution_count": 18,
   "metadata": {},
   "outputs": [
    {
     "name": "stdout",
     "output_type": "stream",
     "text": [
      "CPU times: user 0 ns, sys: 0 ns, total: 0 ns\n",
      "Wall time: 10.5 µs\n"
     ]
    },
    {
     "data": {
      "text/plain": [
       "[None, None, None, None]"
      ]
     },
     "execution_count": 18,
     "metadata": {},
     "output_type": "execute_result"
    }
   ],
   "source": [
    "@require(\"os\", \"urllib.request\")\n",
    "def sra2fastq(sraid):\n",
    "    srafile = \"sra/%s.sra\" % sraid\n",
    "    if not os.path.exists(\"%s_2.fastq.gz\"%sraid):\n",
    "        if not os.path.exists(srafile):\n",
    "            urllib.request.urlretrieve(\"http://appliances.france-bioinformatique.fr/reprohackathon/%s.sra\" % sraid, srafile)\n",
    "        os.system(\"%s --gzip --split-files sra/%s.sra\" % (EXE[\"fastq-dump\"], sraid))\n",
    "        os.unklink(srafile)\n",
    "    return sraid\n",
    "\n",
    "%time par.map_sync(sra2fastq, SRAIDS)"
   ]
  },
  {
   "cell_type": "markdown",
   "metadata": {},
   "source": [
    "### Alignement"
   ]
  },
  {
   "cell_type": "code",
   "execution_count": null,
   "metadata": {},
   "outputs": [],
   "source": [
    "staropts = \" \".join([\"--outSAMstrandField intronMotif\",\n",
    "     \"--outFilterMismatchNmax 4\",\n",
    "     \"--outFilterMultimapNmax 10\",\n",
    "     \"--genomeDir %s\" % gendir,\n",
    "     \"--readFilesIn {0}_1.fastq.gz {0}_2.fastq.gz\",\n",
    "    \"--readFilesCommand zcat\",\n",
    "     \"--runThreadN 10\"\n",
    "     \"--outSAMunmapped None\",\n",
    "     \"--outSAMtype BAM SortedByCoordinate\",\n",
    "     \"--outStd BAM_SortedByCoordinate\",\n",
    "     \"--genomeLoad NoSharedMemory\",\n",
    "     \"--limitBAMsortRAM 3000000000\"])\n",
    "\n",
    "def align_sra(sraid):\n",
    "    os.system(\"%s %s > %s.bam\" % (EXE[\"STAR\"], staropts.format(sraid), sraid))\n",
    "\n",
    "for sraid in SRAIDS:\n",
    "    align_sra(sraid)\n",
    "    print(\"%s done\" % sraid)\n"
   ]
  },
  {
   "cell_type": "code",
   "execution_count": null,
   "metadata": {
    "collapsed": true
   },
   "outputs": [],
   "source": []
  }
 ],
 "metadata": {
  "kernelspec": {
   "display_name": "Python 3",
   "language": "python",
   "name": "python3"
  },
  "language_info": {
   "codemirror_mode": {
    "name": "ipython",
    "version": 3
   },
   "file_extension": ".py",
   "mimetype": "text/x-python",
   "name": "python",
   "nbconvert_exporter": "python",
   "pygments_lexer": "ipython3",
   "version": "3.5.2"
  }
 },
 "nbformat": 4,
 "nbformat_minor": 2
}
