{
 "cells": [
  {
   "cell_type": "markdown",
   "metadata": {},
   "source": [
    "# Analyse de données RNA-Seq issues de patients atteints de mélanome uvéal\n",
    "\n",
    "### Introduction\n",
    "Dans ce hackathon, nous tenterons de reproduire les résultats de [1].\n",
    "Les données originales proviennent de [2], où les auteurs ont séquencé l’ARN d’échantillons de patients atteints de mélanome uvéal. Ces patients appartiennent à deux groupes:\n",
    "\n",
    "1. patients mutés pour le gène SF3B1 (facteur d’épissage) et\n",
    "2. patients non mutés pour ce gène. \n",
    "\n",
    "Dans [2], les auteurs n’ont pas trouvé de différences d’épissage entre les patients mutés et les non mutés (bien qu’il s’agisse d’un facteur d’épissage).\n",
    "En revanche, les auteurs de [1] ont réanalysé les mêmes données, et ont trouvé les gènes suivants épissés différemment entre les deux conditions: \n",
    "* ABCC5, \n",
    "* CRNDE,\n",
    "* UQCC,\n",
    "* GUSBP11,\n",
    "* ANKHD1,\n",
    "* ADAM12.\n",
    "\n",
    "### Données\n",
    "\n",
    "Les données sont accessibles sur SRA\n",
    "* Patients mutés \n",
    "  * [SRR628582](https://www.ncbi.nlm.nih.gov/sra/?term=SRR628582)\n",
    "  * [SRR628583](https://www.ncbi.nlm.nih.gov/sra/?term=SRR628583)\n",
    "  * [SRR628584](https://www.ncbi.nlm.nih.gov/sra/?term=SRR628584)\n",
    "* Patients non mutés\n",
    "  * [SRR628585](https://www.ncbi.nlm.nih.gov/sra/?term=SRR628585)\n",
    "  * [SRR628586](https://www.ncbi.nlm.nih.gov/sra/?term=SRR628586)\n",
    "  * [SRR628587](https://www.ncbi.nlm.nih.gov/sra/?term=SRR628587)\n",
    "  * [SRR628588](https://www.ncbi.nlm.nih.gov/sra/?term=SRR628588)\n",
    "  * [SRR628589](https://www.ncbi.nlm.nih.gov/sra/?term=SRR628589)\n",
    "\n",
    "### Objectif\n",
    "\n",
    "Nous tenterons de retrouver les gènes différentiellement épissés entre les deux conditions, en utilisant un système de workflow et les outils suivants:\n",
    "* [STAR](https://github.com/alexdobin/STAR),\n",
    "* [DEXSeq](http://bioconductor.org/packages/release/bioc/html/DEXSeq.html),\n",
    "* [SRA toolkit](https://trace.ncbi.nlm.nih.gov/Traces/sra/sra.cgi?view=software)\n",
    "* [R](https://cran.r-project.org/)\n",
    "* [Samtools](http://www.htslib.org/download/)\n",
    "\n",
    "Le workflow peut se présenter comme cela:\n",
    "\n",
    "![RNA Workflow](hackathon_1_workflow.svg)\n",
    "\n",
    "## Références\n",
    "* [1] [Furney et al. (2013)](https://www.ncbi.nlm.nih.gov/pubmed/23861464)\n",
    "* [2] [Harbour et al. (2013)](https://www.ncbi.nlm.nih.gov/pubmed/23313955)"
   ]
  },
  {
   "cell_type": "markdown",
   "metadata": {},
   "source": [
    "### Configuration de l'environnement IPython"
   ]
  },
  {
   "cell_type": "code",
   "execution_count": 2,
   "metadata": {
    "collapsed": true
   },
   "outputs": [],
   "source": [
    "import os\n",
    "import subprocess\n",
    "import urllib.request\n",
    "%load_ext rpy2.ipython"
   ]
  },
  {
   "cell_type": "markdown",
   "metadata": {},
   "source": [
    "Initialisation de la parallélisation. Il faut auparavant démarrer ipcluster, par exemple via l'onglet \"IPython clusters\" de l'[accueil du notebook](/tree)."
   ]
  },
  {
   "cell_type": "code",
   "execution_count": 2,
   "metadata": {
    "collapsed": true
   },
   "outputs": [],
   "source": [
    "from ipyparallel import Client, require\n",
    "rc = Client()\n",
    "par = rc.load_balanced_view()"
   ]
  },
  {
   "cell_type": "markdown",
   "metadata": {},
   "source": [
    "# Génome\n",
    "\n",
    "Téléchargement des chromosomes et indexation avec STAR."
   ]
  },
  {
   "cell_type": "code",
   "execution_count": null,
   "metadata": {
    "collapsed": true
   },
   "outputs": [],
   "source": [
    "chrs = [\"chr%d\" % i for i in range(1,23)] + [\"chr%s\" % n for n in [\"M\",\"X\",\"Y\"]]"
   ]
  },
  {
   "cell_type": "code",
   "execution_count": null,
   "metadata": {
    "collapsed": true
   },
   "outputs": [],
   "source": [
    "if not os.path.exists(\"chrs\"):\n",
    "    os.makedirs(\"chrs\")\n",
    "for c in chrs:\n",
    "    chrfile = \"chrs/%s.fa.gz\" % c\n",
    "    if not os.path.exists(chrfile):\n",
    "        urlretrieve(\"http://hgdownload.soe.ucsc.edu/goldenPath/hg19/chromosomes/%s.fa.gz\" % c, chrfile)\n",
    "    print(\"%s ready\" % c)"
   ]
  },
  {
   "cell_type": "code",
   "execution_count": 10,
   "metadata": {},
   "outputs": [
    {
     "name": "stdout",
     "output_type": "stream",
     "text": [
      "CPU times: user 7.8 ms, sys: 5.42 ms, total: 13.2 ms\n",
      "Wall time: 1min 24s\n",
      "Genome index ready in 'ref'\n"
     ]
    }
   ],
   "source": [
    "gendir = \"ref\"\n",
    "if not os.path.exists(gendir):\n",
    "    os.makedirs(gendir)\n",
    "!gunzip -c chrs/chr*.fa.gz>ref.fa\n",
    "%time os.system(\"STAR --runThreadN 10 --runMode genomeGenerate --genomeDir %s --genomeFastaFiles ref.fa\" % (gendir))\n",
    "os.unlink(\"ref.fa\")\n",
    "print(\"Genome index ready in '%s'\" % gendir)"
   ]
  },
  {
   "cell_type": "markdown",
   "metadata": {},
   "source": [
    "# Pré-traitement des données SRA\n",
    "\n",
    "Les données de RNA-seq sont téléchargées et converties au format fastq, avant d'être alignées sur le génome."
   ]
  },
  {
   "cell_type": "code",
   "execution_count": 3,
   "metadata": {
    "collapsed": true
   },
   "outputs": [],
   "source": [
    "SRAIDS_MUTES = [\"SRR628582\", \"SRR628583\", \"SRR628584\"]\n",
    "SRAIDS_WT = [\"SRR628585\", \"SRR628586\", \"SRR628587\", \"SRR628588\", \"SRR628589\"]\n",
    "SRAIDS = SRAIDS_MUTES + SRAIDS_WT\n",
    "rc[:][\"SRAIDS_WT\"] = SRAIDS_WT"
   ]
  },
  {
   "cell_type": "markdown",
   "metadata": {},
   "source": [
    "### Fetch files and convert to FASTQ"
   ]
  },
  {
   "cell_type": "code",
   "execution_count": null,
   "metadata": {
    "collapsed": true
   },
   "outputs": [],
   "source": [
    "# download SRA files\n",
    "for sraid in SRAIDS:\n",
    "    subprocess.check_call([\"prefetch\", sraid])\n",
    "    print(\"%s.sra fetched\" % sraid)\n",
    "\n",
    "# convert to fastq\n",
    "@require(\"os\")\n",
    "def sra2fastq(sraid):\n",
    "    os.system(\"fastq-dump --gzip --split-files %s\" % sraid)\n",
    "    os.unlink(os.path.expanduser(\"~/ncbi/public/sra/%s.sra\" % sraid))\n",
    "    print(\"%s ready\" % sraid)\n",
    "    return sraid\n",
    "\n",
    "%time par.map_sync(sra2fastq, SRAIDS)"
   ]
  },
  {
   "cell_type": "markdown",
   "metadata": {},
   "source": [
    "### Alignement\n",
    "\n",
    "Alignement des reads de chaque fichier FASTQ avec le génome. Cela génère un fichier `bam` par fichier FASTQ."
   ]
  },
  {
   "cell_type": "code",
   "execution_count": 6,
   "metadata": {},
   "outputs": [
    {
     "name": "stdout",
     "output_type": "stream",
     "text": [
      "SRR628582.bam ready\n",
      "SRR628583.bam ready\n",
      "SRR628584.bam ready\n",
      "SRR628585.bam ready\n",
      "SRR628586.bam ready\n",
      "SRR628587.bam ready\n",
      "SRR628588.bam ready\n",
      "SRR628589.bam ready\n"
     ]
    }
   ],
   "source": [
    "staropts = \" \".join([\"--outSAMstrandField intronMotif\",\n",
    "     \"--outFilterMismatchNmax 4\",\n",
    "     \"--outFilterMultimapNmax 10\",\n",
    "     \"--genomeDir %s\" % \"ref\",\n",
    "     \"--readFilesIn {0}_1.fastq.gz {0}_2.fastq.gz\",\n",
    "    \"--readFilesCommand zcat\",\n",
    "     \"--runThreadN 10\"\n",
    "     \"--outSAMunmapped None\",\n",
    "     \"--outSAMtype BAM SortedByCoordinate\",\n",
    "     \"--outStd BAM_SortedByCoordinate\",\n",
    "     \"--genomeLoad NoSharedMemory\",\n",
    "     \"--limitBAMsortRAM 3000000000\"])\n",
    "\n",
    "def align_sra(sraid):\n",
    "    os.system(\"STAR %s > %s.bam\" % (staropts.format(sraid), sraid))\n",
    "    #urllib.request.urlretrieve(\"http://appliances.france-bioinformatique.fr/reprohackathon/%s.bam\" % sraid, \"%s.bam\"%sraid)\n",
    "    print(\"%s.bam ready\" % sraid)\n",
    "\n",
    "for sraid in SRAIDS:\n",
    "    align_sra(sraid)"
   ]
  },
  {
   "cell_type": "markdown",
   "metadata": {},
   "source": [
    "Indexation des fichiers bam avec [samtools](https://github.com/samtools/samtools)."
   ]
  },
  {
   "cell_type": "code",
   "execution_count": 7,
   "metadata": {},
   "outputs": [
    {
     "name": "stdout",
     "output_type": "stream",
     "text": [
      "CPU times: user 13.2 ms, sys: 13.3 ms, total: 26.4 ms\n",
      "Wall time: 1min 59s\n"
     ]
    },
    {
     "data": {
      "text/plain": [
       "[0, 0, 0, 0, 0, 0, 0, 0]"
      ]
     },
     "execution_count": 7,
     "metadata": {},
     "output_type": "execute_result"
    }
   ],
   "source": [
    "@require(\"subprocess\")\n",
    "def index_bam(sraid):\n",
    "    return subprocess.check_call([\"samtools\", \"index\", \"%s.bam\"%sraid])\n",
    "\n",
    "%time par.map_sync(index_bam, SRAIDS)"
   ]
  },
  {
   "cell_type": "markdown",
   "metadata": {},
   "source": [
    "###  Annotations\n",
    "\n",
    "Préparation des annotations des gènes, et conversion au format DEXSeq."
   ]
  },
  {
   "cell_type": "code",
   "execution_count": 8,
   "metadata": {
    "collapsed": true
   },
   "outputs": [],
   "source": [
    "!gunzip -c \"data/refgene_hg19.gtf.gz\" > gtf\n",
    "!gunzip -c \"data/refgene_hg19.table.gz\" > table\n",
    "!perl addGeneNameToUcscGFF.pl gtf table > ann.gtf\n",
    "!rm -f gtf table\n",
    "!/opt/conda/envs/python2/bin/python /opt/conda/lib/R/library/DEXSeq/python_scripts/dexseq_prepare_annotation.py ann.gtf annotations_DEXSeq.gtf"
   ]
  },
  {
   "cell_type": "markdown",
   "metadata": {
    "collapsed": true
   },
   "source": [
    "## Analyse\n",
    "\n",
    "### Comptage\n",
    "\n",
    "Comptage du nombre de reads"
   ]
  },
  {
   "cell_type": "code",
   "execution_count": null,
   "metadata": {},
   "outputs": [
    {
     "name": "stdout",
     "output_type": "stream",
     "text": [
      "CPU times: user 70.7 ms, sys: 37.5 ms, total: 108 ms\n",
      "Wall time: 46min 24s\n"
     ]
    }
   ],
   "source": [
    "@require(\"os\")\n",
    "def count(sraid):\n",
    "    python2 = \"/opt/conda/envs/python2/bin/python\"\n",
    "    script = \"/opt/conda/lib/R/library/DEXSeq/python_scripts/dexseq_count.py\"\n",
    "    os.system(\"{python2} {script} -p yes -r pos -s no -f bam annotations_DEXSeq.gtf {sraid}.bam count{sraid}.txt\".format(python2=python2, script=script, sraid=sraid))\n",
    "    condition = \"WT\" if sraid in SRAIDS_WT else \"MUTED\"\n",
    "    os.system(\"grep -v '^_' count{sraid}.txt | awk '{{ print \\\"{condition}\\\\t{sraid}\\\\t\\\" $0 }}' > mapcount{sraid}.txt\".format(sraid=sraid, condition=condition))\n",
    "    print(\"%s counted\" % sraid)\n",
    "    \n",
    "%time  par.map_sync(count, SRAIDS)\n",
    "!cat mapcount*.txt > mapcounts"
   ]
  },
  {
   "cell_type": "markdown",
   "metadata": {},
   "source": [
    "Rassemblement des comptages:"
   ]
  },
  {
   "cell_type": "code",
   "execution_count": 4,
   "metadata": {},
   "outputs": [
    {
     "name": "stderr",
     "output_type": "stream",
     "text": [
      "/opt/conda/lib/python3.5/site-packages/rpy2/rinterface/__init__.py:186: RRuntimeWarning: Loading required package: BiocParallel\n",
      "\n",
      "  warnings.warn(x, RRuntimeWarning)\n",
      "/opt/conda/lib/python3.5/site-packages/rpy2/rinterface/__init__.py:186: RRuntimeWarning: Loading required package: Biobase\n",
      "\n",
      "  warnings.warn(x, RRuntimeWarning)\n",
      "/opt/conda/lib/python3.5/site-packages/rpy2/rinterface/__init__.py:186: RRuntimeWarning: Loading required package: BiocGenerics\n",
      "\n",
      "  warnings.warn(x, RRuntimeWarning)\n",
      "/opt/conda/lib/python3.5/site-packages/rpy2/rinterface/__init__.py:186: RRuntimeWarning: Loading required package: parallel\n",
      "\n",
      "  warnings.warn(x, RRuntimeWarning)\n",
      "/opt/conda/lib/python3.5/site-packages/rpy2/rinterface/__init__.py:186: RRuntimeWarning: \n",
      "Attaching package: ‘BiocGenerics’\n",
      "\n",
      "\n",
      "  warnings.warn(x, RRuntimeWarning)\n",
      "/opt/conda/lib/python3.5/site-packages/rpy2/rinterface/__init__.py:186: RRuntimeWarning: The following objects are masked from ‘package:parallel’:\n",
      "\n",
      "    clusterApply, clusterApplyLB, clusterCall, clusterEvalQ,\n",
      "    clusterExport, clusterMap, parApply, parCapply, parLapply,\n",
      "    parLapplyLB, parRapply, parSapply, parSapplyLB\n",
      "\n",
      "\n",
      "  warnings.warn(x, RRuntimeWarning)\n",
      "/opt/conda/lib/python3.5/site-packages/rpy2/rinterface/__init__.py:186: RRuntimeWarning: The following objects are masked from ‘package:stats’:\n",
      "\n",
      "    IQR, mad, xtabs\n",
      "\n",
      "\n",
      "  warnings.warn(x, RRuntimeWarning)\n",
      "/opt/conda/lib/python3.5/site-packages/rpy2/rinterface/__init__.py:186: RRuntimeWarning: The following objects are masked from ‘package:base’:\n",
      "\n",
      "    anyDuplicated, append, as.data.frame, cbind, colnames, do.call,\n",
      "    duplicated, eval, evalq, Filter, Find, get, grep, grepl, intersect,\n",
      "    is.unsorted, lapply, lengths, Map, mapply, match, mget, order,\n",
      "    paste, pmax, pmax.int, pmin, pmin.int, Position, rank, rbind,\n",
      "    Reduce, rownames, sapply, setdiff, sort, table, tapply, union,\n",
      "    unique, unsplit, which, which.max, which.min\n",
      "\n",
      "\n",
      "  warnings.warn(x, RRuntimeWarning)\n",
      "/opt/conda/lib/python3.5/site-packages/rpy2/rinterface/__init__.py:186: RRuntimeWarning: Welcome to Bioconductor\n",
      "\n",
      "    Vignettes contain introductory material; view with\n",
      "    'browseVignettes()'. To cite Bioconductor, see\n",
      "    'citation(\"Biobase\")', and for packages 'citation(\"pkgname\")'.\n",
      "\n",
      "\n",
      "  warnings.warn(x, RRuntimeWarning)\n",
      "/opt/conda/lib/python3.5/site-packages/rpy2/rinterface/__init__.py:186: RRuntimeWarning: Loading required package: SummarizedExperiment\n",
      "\n",
      "  warnings.warn(x, RRuntimeWarning)\n",
      "/opt/conda/lib/python3.5/site-packages/rpy2/rinterface/__init__.py:186: RRuntimeWarning: Loading required package: GenomicRanges\n",
      "\n",
      "  warnings.warn(x, RRuntimeWarning)\n",
      "/opt/conda/lib/python3.5/site-packages/rpy2/rinterface/__init__.py:186: RRuntimeWarning: Loading required package: stats4\n",
      "\n",
      "  warnings.warn(x, RRuntimeWarning)\n",
      "/opt/conda/lib/python3.5/site-packages/rpy2/rinterface/__init__.py:186: RRuntimeWarning: Loading required package: S4Vectors\n",
      "\n",
      "  warnings.warn(x, RRuntimeWarning)\n",
      "/opt/conda/lib/python3.5/site-packages/rpy2/rinterface/__init__.py:186: RRuntimeWarning: \n",
      "Attaching package: ‘S4Vectors’\n",
      "\n",
      "\n",
      "  warnings.warn(x, RRuntimeWarning)\n",
      "/opt/conda/lib/python3.5/site-packages/rpy2/rinterface/__init__.py:186: RRuntimeWarning: The following objects are masked from ‘package:base’:\n",
      "\n",
      "    colMeans, colSums, expand.grid, rowMeans, rowSums\n",
      "\n",
      "\n",
      "  warnings.warn(x, RRuntimeWarning)\n",
      "/opt/conda/lib/python3.5/site-packages/rpy2/rinterface/__init__.py:186: RRuntimeWarning: Loading required package: IRanges\n",
      "\n",
      "  warnings.warn(x, RRuntimeWarning)\n",
      "/opt/conda/lib/python3.5/site-packages/rpy2/rinterface/__init__.py:186: RRuntimeWarning: Loading required package: GenomeInfoDb\n",
      "\n",
      "  warnings.warn(x, RRuntimeWarning)\n",
      "/opt/conda/lib/python3.5/site-packages/rpy2/rinterface/__init__.py:186: RRuntimeWarning: Loading required package: DESeq2\n",
      "\n",
      "  warnings.warn(x, RRuntimeWarning)\n",
      "/opt/conda/lib/python3.5/site-packages/rpy2/rinterface/__init__.py:186: RRuntimeWarning: Loading required package: AnnotationDbi\n",
      "\n",
      "  warnings.warn(x, RRuntimeWarning)\n",
      "/opt/conda/lib/python3.5/site-packages/rpy2/rinterface/__init__.py:186: RRuntimeWarning: Loading required package: RColorBrewer\n",
      "\n",
      "  warnings.warn(x, RRuntimeWarning)\n"
     ]
    }
   ],
   "source": [
    "%%R\n",
    "library(DEXSeq)\n",
    "library(reshape2)\n",
    "options(bitmapType='cairo')\n",
    "\n",
    "## Count data\n",
    "counts<-read.table(\"mapcounts\")\n",
    "colnames(counts)=c(\"cond\",\"sraid\",\"exon\",\"count\")\n",
    "widecount=dcast(counts, exon ~ sraid,value.var=\"count\")\n",
    "row.names(widecount)=widecount$exon\n",
    "widecount=widecount[,-1]\n",
    "## Exon and Gene Names\n",
    "exons=sapply(strsplit(row.names(widecount), \":\"),\"[\",2)\n",
    "genes=sapply(strsplit(row.names(widecount), \":\"),\"[\",1)\n",
    "\n",
    "## Sample Annotation\n",
    "samples=unique(counts[,c(1,2)])$cond\n",
    "sampleTable <- data.frame(lapply(unique(counts[,c(1,2)]), as.character),libType=\"paired-end\",stringsAsFactors=FALSE)\n",
    "row.names(sampleTable)=sampleTable$sraid\n",
    "sampleTable=sampleTable[,-2]\n",
    "colnames(sampleTable)=c(\"condition\",\"libType\")\n",
    "# on remet dans l'ordre\n",
    "sampleTable=sampleTable[colnames(widecount),]\n",
    "\n",
    "# Write into individual files\n",
    "countfiles=paste0(colnames(widecount),\".txt\")\n",
    "for(sample in colnames(widecount)){\n",
    "    write.table(file=paste0(sample,\".txt\"),data.frame(row.names=row.names(widecount),count=widecount[,sample]),row.names=TRUE,col.names=FALSE,quote=FALSE,sep=\"\\t\")\n",
    "}"
   ]
  },
  {
   "cell_type": "code",
   "execution_count": 5,
   "metadata": {},
   "outputs": [
    {
     "name": "stderr",
     "output_type": "stream",
     "text": [
      "/opt/conda/lib/python3.5/site-packages/rpy2/rinterface/__init__.py:186: RRuntimeWarning: converting counts to integer mode\n",
      "\n",
      "  warnings.warn(x, RRuntimeWarning)\n"
     ]
    },
    {
     "data": {
      "text/plain": [
       "R object with classes: ('DEXSeqDataSet',) mapped to:\n",
       "<RS4 - Python:0x7f0f0d108308 / R:0x2b669fc8>"
      ]
     },
     "execution_count": 5,
     "metadata": {},
     "output_type": "execute_result"
    }
   ],
   "source": [
    "# Create DEXSeqDataSet\n",
    "%R dxd=DEXSeqDataSetFromHTSeq(countfiles,sampleData=sampleTable,design=~sample+exon+condition:exon,flattenedfile=\"annotations_DEXSeq.gtf\")"
   ]
  },
  {
   "cell_type": "markdown",
   "metadata": {},
   "source": [
    "### Analyse statique"
   ]
  },
  {
   "cell_type": "code",
   "execution_count": null,
   "metadata": {},
   "outputs": [],
   "source": [
    "%R dxd=estimateSizeFactors(dxd)\n",
    "%R dxd=estimateDispersions(dxd)"
   ]
  },
  {
   "cell_type": "markdown",
   "metadata": {},
   "source": [
    "### Graphiques"
   ]
  },
  {
   "cell_type": "code",
   "execution_count": null,
   "metadata": {
    "collapsed": true
   },
   "outputs": [],
   "source": [
    "%%R\n",
    "plotDispEsts(dxd)\n",
    "\n",
    "dxd=testForDEU(dxd)\n",
    "dxd=estimateExonFoldChanges(dxd,fitExpToVar=\"condition\")\n",
    "dxr1=DEXSeqResults(dxd)\n",
    "dxr1=na.omit(dxr1)\n",
    "#table(dxr1$pvalue<0.1)\n",
    "#write.table(file=\"diff_exons_out.txt\",dxr1[dxr1$padj<0.1,])\n",
    "#table(tapply(dxr1$padj<0.1,dxr1$groupID,any))\n",
    "\n",
    "plotMA(dxr1,cex=0.8)\n",
    "\n",
    "for(i in unique(dxr1[dxr1$padj<0.1,\"groupID\"])){\n",
    "      plotDEXSeq( dxr1,i,legend=TRUE,cex.axis=1.2,cex=1.3,lwd=2,norCounts=TRUE,splicing=TRUE,displayTranscripts=TRUE)\n",
    "}"
   ]
  },
  {
   "cell_type": "code",
   "execution_count": null,
   "metadata": {
    "collapsed": true
   },
   "outputs": [],
   "source": []
  }
 ],
 "metadata": {
  "kernelspec": {
   "display_name": "Python 3",
   "language": "python",
   "name": "python3"
  },
  "language_info": {
   "codemirror_mode": {
    "name": "ipython",
    "version": 3
   },
   "file_extension": ".py",
   "mimetype": "text/x-python",
   "name": "python",
   "nbconvert_exporter": "python",
   "pygments_lexer": "ipython3",
   "version": "3.5.2"
  }
 },
 "nbformat": 4,
 "nbformat_minor": 2
}
